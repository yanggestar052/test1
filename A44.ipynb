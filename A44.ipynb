{
 "cells": [
  {
   "cell_type": "code",
   "execution_count": 13,
   "id": "eaf97a55",
   "metadata": {},
   "outputs": [
    {
     "name": "stdout",
     "output_type": "stream",
     "text": [
      "Defaulting to user installation because normal site-packages is not writeable\n",
      "Requirement already satisfied: pandas in /home/ubuntu/.local/lib/python3.10/site-packages (1.4.2)\n",
      "Requirement already satisfied: numpy>=1.21.0 in /home/ubuntu/.local/lib/python3.10/site-packages (from pandas) (1.22.4)\n",
      "Requirement already satisfied: pytz>=2020.1 in /usr/lib/python3/dist-packages (from pandas) (2022.1)\n",
      "Requirement already satisfied: python-dateutil>=2.8.1 in /home/ubuntu/.local/lib/python3.10/site-packages (from pandas) (2.8.2)\n",
      "Requirement already satisfied: six>=1.5 in /usr/lib/python3/dist-packages (from python-dateutil>=2.8.1->pandas) (1.16.0)\n"
     ]
    }
   ],
   
  },
  {
   "cell_type": "code",
   "execution_count": 21,
   "id": "e1d12fd8",
   "metadata": {},
   "outputs": [
    {
     "name": "stderr",
     "output_type": "stream",
     "text": [
      "\r",
      "[Stage 42:>                                                         (0 + 1) / 1]\r",
      "\r",
      "                                                                                \r"
     ]
    },
    {
     "data": {
      "image/png": "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\n",
      "text/plain": [
       "<Figure size 720x432 with 1 Axes>"
      ]
     },
     "metadata": {
      "needs_background": "light"
     },
     "output_type": "display_data"
    },
    {
     "name": "stdout",
     "output_type": "stream",
     "text": [
      "+------------------------+------------------------+\n",
      "|Log_AverageOfUpperTRange|Log_AverageOfLowerTRange|\n",
      "+------------------------+------------------------+\n",
      "|       4.289088639014612|      3.9473901492654373|\n",
      "|       4.289088639014612|      3.9473901492654373|\n",
      "|       4.382026634673881|       4.041295341132285|\n",
      "|       4.382026634673881|       4.041295341132285|\n",
      "|       4.289088639014612|      3.9473901492654373|\n",
      "+------------------------+------------------------+\n",
      "only showing top 5 rows\n",
      "\n",
      "+---------+--------+-----------+------------------+-----------+-----------+\n",
      "|clonesize|honeybee|RainingDays|AverageRainingDays|      yield|CEII_binned|\n",
      "+---------+--------+-----------+------------------+-----------+-----------+\n",
      "|     37.5|    0.75|       16.0|              0.26|3813.165795|        4.0|\n",
      "|     37.5|    0.75|        1.0|               0.1|4947.605663|        3.0|\n",
      "|     37.5|    0.75|       16.0|              0.26|3866.798965|        5.0|\n",
      "|     37.5|    0.75|        1.0|               0.1| 4303.94303|        4.0|\n",
      "|     37.5|    0.75|       24.0|              0.39|3436.493543|        4.0|\n",
      "+---------+--------+-----------+------------------+-----------+-----------+\n",
      "only showing top 5 rows\n",
      "\n"
     ]
    },
    {
     "ename": "AnalysisException",
     "evalue": "path file:/home/ubuntu/aws-instance-fork/DT.csv already exists.",
     "output_type": "error",
     "traceback": [
      "\u001b[0;31m---------------------------------------------------------------------------\u001b[0m",
      "\u001b[0;31mAnalysisException\u001b[0m                         Traceback (most recent call last)",
      "Input \u001b[0;32mIn [21]\u001b[0m, in \u001b[0;36m<cell line: 97>\u001b[0;34m()\u001b[0m\n\u001b[1;32m     95\u001b[0m DT \u001b[38;5;241m=\u001b[39m a\u001b[38;5;241m.\u001b[39mselect(new_columns)\n\u001b[1;32m     96\u001b[0m DT\u001b[38;5;241m.\u001b[39mshow(\u001b[38;5;241m5\u001b[39m)\n\u001b[0;32m---> 97\u001b[0m \u001b[43mDT\u001b[49m\u001b[38;5;241;43m.\u001b[39;49m\u001b[43mwrite\u001b[49m\u001b[38;5;241;43m.\u001b[39;49m\u001b[43mcsv\u001b[49m\u001b[43m(\u001b[49m\u001b[38;5;124;43m\"\u001b[39;49m\u001b[38;5;124;43mDT.csv\u001b[39;49m\u001b[38;5;124;43m\"\u001b[39;49m\u001b[43m,\u001b[49m\u001b[43m \u001b[49m\u001b[43mheader\u001b[49m\u001b[38;5;241;43m=\u001b[39;49m\u001b[38;5;28;43;01mTrue\u001b[39;49;00m\u001b[43m)\u001b[49m\n\u001b[1;32m     98\u001b[0m spark\u001b[38;5;241m.\u001b[39mstop()\n",
      "File \u001b[0;32m~/.local/lib/python3.10/site-packages/pyspark/sql/readwriter.py:955\u001b[0m, in \u001b[0;36mDataFrameWriter.csv\u001b[0;34m(self, path, mode, compression, sep, quote, escape, header, nullValue, escapeQuotes, quoteAll, dateFormat, timestampFormat, ignoreLeadingWhiteSpace, ignoreTrailingWhiteSpace, charToEscapeQuoteEscaping, encoding, emptyValue, lineSep)\u001b[0m\n\u001b[1;32m    947\u001b[0m \u001b[38;5;28mself\u001b[39m\u001b[38;5;241m.\u001b[39mmode(mode)\n\u001b[1;32m    948\u001b[0m \u001b[38;5;28mself\u001b[39m\u001b[38;5;241m.\u001b[39m_set_opts(compression\u001b[38;5;241m=\u001b[39mcompression, sep\u001b[38;5;241m=\u001b[39msep, quote\u001b[38;5;241m=\u001b[39mquote, escape\u001b[38;5;241m=\u001b[39mescape, header\u001b[38;5;241m=\u001b[39mheader,\n\u001b[1;32m    949\u001b[0m                nullValue\u001b[38;5;241m=\u001b[39mnullValue, escapeQuotes\u001b[38;5;241m=\u001b[39mescapeQuotes, quoteAll\u001b[38;5;241m=\u001b[39mquoteAll,\n\u001b[1;32m    950\u001b[0m                dateFormat\u001b[38;5;241m=\u001b[39mdateFormat, timestampFormat\u001b[38;5;241m=\u001b[39mtimestampFormat,\n\u001b[0;32m   (...)\u001b[0m\n\u001b[1;32m    953\u001b[0m                charToEscapeQuoteEscaping\u001b[38;5;241m=\u001b[39mcharToEscapeQuoteEscaping,\n\u001b[1;32m    954\u001b[0m                encoding\u001b[38;5;241m=\u001b[39mencoding, emptyValue\u001b[38;5;241m=\u001b[39memptyValue, lineSep\u001b[38;5;241m=\u001b[39mlineSep)\n\u001b[0;32m--> 955\u001b[0m \u001b[38;5;28;43mself\u001b[39;49m\u001b[38;5;241;43m.\u001b[39;49m\u001b[43m_jwrite\u001b[49m\u001b[38;5;241;43m.\u001b[39;49m\u001b[43mcsv\u001b[49m\u001b[43m(\u001b[49m\u001b[43mpath\u001b[49m\u001b[43m)\u001b[49m\n",
      "File \u001b[0;32m~/.local/lib/python3.10/site-packages/py4j/java_gateway.py:1321\u001b[0m, in \u001b[0;36mJavaMember.__call__\u001b[0;34m(self, *args)\u001b[0m\n\u001b[1;32m   1315\u001b[0m command \u001b[38;5;241m=\u001b[39m proto\u001b[38;5;241m.\u001b[39mCALL_COMMAND_NAME \u001b[38;5;241m+\u001b[39m\\\n\u001b[1;32m   1316\u001b[0m     \u001b[38;5;28mself\u001b[39m\u001b[38;5;241m.\u001b[39mcommand_header \u001b[38;5;241m+\u001b[39m\\\n\u001b[1;32m   1317\u001b[0m     args_command \u001b[38;5;241m+\u001b[39m\\\n\u001b[1;32m   1318\u001b[0m     proto\u001b[38;5;241m.\u001b[39mEND_COMMAND_PART\n\u001b[1;32m   1320\u001b[0m answer \u001b[38;5;241m=\u001b[39m \u001b[38;5;28mself\u001b[39m\u001b[38;5;241m.\u001b[39mgateway_client\u001b[38;5;241m.\u001b[39msend_command(command)\n\u001b[0;32m-> 1321\u001b[0m return_value \u001b[38;5;241m=\u001b[39m \u001b[43mget_return_value\u001b[49m\u001b[43m(\u001b[49m\n\u001b[1;32m   1322\u001b[0m \u001b[43m    \u001b[49m\u001b[43manswer\u001b[49m\u001b[43m,\u001b[49m\u001b[43m \u001b[49m\u001b[38;5;28;43mself\u001b[39;49m\u001b[38;5;241;43m.\u001b[39;49m\u001b[43mgateway_client\u001b[49m\u001b[43m,\u001b[49m\u001b[43m \u001b[49m\u001b[38;5;28;43mself\u001b[39;49m\u001b[38;5;241;43m.\u001b[39;49m\u001b[43mtarget_id\u001b[49m\u001b[43m,\u001b[49m\u001b[43m \u001b[49m\u001b[38;5;28;43mself\u001b[39;49m\u001b[38;5;241;43m.\u001b[39;49m\u001b[43mname\u001b[49m\u001b[43m)\u001b[49m\n\u001b[1;32m   1324\u001b[0m \u001b[38;5;28;01mfor\u001b[39;00m temp_arg \u001b[38;5;129;01min\u001b[39;00m temp_args:\n\u001b[1;32m   1325\u001b[0m     temp_arg\u001b[38;5;241m.\u001b[39m_detach()\n",
      "File \u001b[0;32m~/.local/lib/python3.10/site-packages/pyspark/sql/utils.py:117\u001b[0m, in \u001b[0;36mcapture_sql_exception.<locals>.deco\u001b[0;34m(*a, **kw)\u001b[0m\n\u001b[1;32m    113\u001b[0m converted \u001b[38;5;241m=\u001b[39m convert_exception(e\u001b[38;5;241m.\u001b[39mjava_exception)\n\u001b[1;32m    114\u001b[0m \u001b[38;5;28;01mif\u001b[39;00m \u001b[38;5;129;01mnot\u001b[39;00m \u001b[38;5;28misinstance\u001b[39m(converted, UnknownException):\n\u001b[1;32m    115\u001b[0m     \u001b[38;5;66;03m# Hide where the exception came from that shows a non-Pythonic\u001b[39;00m\n\u001b[1;32m    116\u001b[0m     \u001b[38;5;66;03m# JVM exception message.\u001b[39;00m\n\u001b[0;32m--> 117\u001b[0m     \u001b[38;5;28;01mraise\u001b[39;00m converted \u001b[38;5;28;01mfrom\u001b[39;00m \u001b[38;5;28mNone\u001b[39m\n\u001b[1;32m    118\u001b[0m \u001b[38;5;28;01melse\u001b[39;00m:\n\u001b[1;32m    119\u001b[0m     \u001b[38;5;28;01mraise\u001b[39;00m\n",
      "\u001b[0;31mAnalysisException\u001b[0m: path file:/home/ubuntu/aws-instance-fork/DT.csv already exists."
     ]
    }
   ],
   "source": [
    "from pyspark.sql import SparkSession\n",
    "from pyspark.ml.stat import Correlation\n",
    "from pyspark.ml.feature import VectorAssembler\n",
    "import findspark\n",
    "import pyspark\n",
    "findspark.init('/home/ubuntu/spark-3.2.1-bin-hadoop2.7')\n",
    "from pyspark.sql.functions import col, count, isnan, mean as _mean\n",
    "from pyspark.sql import functions as F\n",
    "import matplotlib.pyplot as plt\n",
    "import numpy as np\n",
    "from pyspark.ml.feature import Bucketizer\n",
    "from pyspark.sql.functions import log1p, col\n",
    "spark = SparkSession.builder.appName(\"Correlation Matrix\").getOrCreate()\n",
    "\n",
    "\n",
    "\n",
    "file = \"final_df.csv\" \n",
    "\n",
    "\n",
    "new_df = spark.read.csv(file, header=True, inferSchema=True)\n",
    "\n",
    "\n",
    "feature_columns = [col for col in new_df.columns if col != 'yield']\n",
    "results = []\n",
    "\n",
    "for feature in feature_columns:\n",
    "    assembler = VectorAssembler(inputCols=[feature, 'yield'], outputCol=\"features\")\n",
    "    feature_vector_df = assembler.transform(new_df).select(\"features\")\n",
    "\n",
    "    correlation_matrix = Correlation.corr(feature_vector_df, \"features\", \"pearson\").collect()[0][0]\n",
    "    # get the correlation with yied\n",
    "    correlation_with_yield = correlation_matrix.toArray()[0][1]\n",
    "    results.append((feature, correlation_with_yield))\n",
    "\n",
    "\n",
    "\n",
    "\n",
    "    \n",
    "    \n",
    "min_ceii = new_df.select(\"CEII\").rdd.min()[0]\n",
    "max_ceii = new_df.select(\"CEII\").rdd.max()[0]\n",
    "bins = list(np.arange(min_ceii, max_ceii + 0.5, 0.5))\n",
    "\n",
    "bucketizer = Bucketizer(splits=bins, inputCol=\"CEII\", outputCol=\"CEII_binned\")\n",
    "a = bucketizer.setHandleInvalid(\"keep\").transform(new_df)\n",
    "\n",
    "bin_counts = a.groupBy(\"CEII_binned\").count().orderBy(\"CEII_binned\")\n",
    "\n",
    "\n",
    "bin_counts_local = bin_counts.collect()\n",
    "bins = [x[\"CEII_binned\"] for x in bin_counts_local]\n",
    "counts = [x[\"count\"] for x in bin_counts_local]\n",
    "\n",
    "plt.figure(figsize=(10, 6))\n",
    "plt.bar(bins, counts, width=0.5, color='b', alpha=0.7)\n",
    "plt.xlabel('Binned CEII Categories')\n",
    "plt.ylabel('Count')\n",
    "plt.title('Distribution of Binned CEII')\n",
    "plt.xticks(bins, labels=[f'Bin {i}' for i in bins])\n",
    "plt.show()\n",
    "\n",
    "# logtransform\n",
    "a = a.withColumn(\"Log_AverageOfUpperTRange\", log1p(\"AverageOfUpperTRange\"))\n",
    "a = a.withColumn(\"Log_AverageOfLowerTRange\", log1p(\"AverageOfLowerTRange\"))\n",
    "\n",
    "# print logtransformed\n",
    "a.select(\"Log_AverageOfUpperTRange\", \"Log_AverageOfLowerTRange\").show(5)\n",
    "\n",
    "\n",
    "#varify the new variables importance\n",
    "\n",
    "selected_columns = [\n",
    "    'clonesize', 'honeybee', 'Log_AverageOfUpperTRange',\n",
    "    'Log_AverageOfLowerTRange', 'RainingDays', 'AverageRainingDays', \n",
    "     'yield','CEII_binned'\n",
    "]\n",
    "a = a.select(selected_columns)\n",
    "feature_columns = [c for c in a.columns if c != 'yield']\n",
    "results = []\n",
    "\n",
    "for feature in feature_columns:\n",
    "    assembler = VectorAssembler(inputCols=[feature, 'yield'], outputCol=\"features\")\n",
    "    feature_vector_df = assembler.transform(a).select(\"features\")\n",
    "    correlation_matrix = Correlation.corr(feature_vector_df, \"features\").head()[0]\n",
    "    correlation_with_yield = correlation_matrix.toArray()[1, 0]\n",
    "    results.append((feature, correlation_with_yield))\n",
    "\n",
    "new_columns = [\n",
    "    'clonesize', 'honeybee', \n",
    "  'RainingDays', 'AverageRainingDays', \n",
    "     'yield','CEII_binned'\n",
    "]\n",
    "DT = a.select(new_columns)\n",
    "\n",
    "final_df.write.csv(\"DT.csv\", header=True)\n",
    "spark.stop()"
   ]
  },
  {
   "cell_type": "code",
   "execution_count": null,
   "id": "2161a94e",
   "metadata": {},
   "outputs": [],
   "source": []
  }
 ],
 "metadata": {
  "kernelspec": {
   "display_name": "Python 3 (ipykernel)",
   "language": "python",
   "name": "python3"
  },
  "language_info": {
   "codemirror_mode": {
    "name": "ipython",
    "version": 3
   },
   "file_extension": ".py",
   "mimetype": "text/x-python",
   "name": "python",
   "nbconvert_exporter": "python",
   "pygments_lexer": "ipython3",
   "version": "3.10.4"
  }
 },
 "nbformat": 4,
 "nbformat_minor": 5
}
