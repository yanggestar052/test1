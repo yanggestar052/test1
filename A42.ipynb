{
 "cells": [
  {
   "cell_type": "code",
   "execution_count": 4,
   "id": "aa4acf94",
   "metadata": {},
   "outputs": [
    {
     "name": "stderr",
     "output_type": "stream",
     "text": [
      "24/05/15 09:05:35 WARN Utils: Service 'SparkUI' could not bind on port 4040. Attempting port 4041.\n",
      "24/05/15 09:05:35 WARN Utils: Service 'SparkUI' could not bind on port 4041. Attempting port 4042.\n"
     ]
    },
    {
     "name": "stdout",
     "output_type": "stream",
     "text": [
      "(777, 18)\n",
      "+-------+------------------+------------------+------------------+-------------------+-------------------+-------------------+-----------------+------------------+--------------------+------------------+-----------------+--------------------+------------------+------------------+-------------------+--------------------+-----------------+-----------------+\n",
      "|summary|              Row#|         clonesize|          honeybee|            bumbles|            andrena|              osmia| MaxOfUpperTRange|  MinOfUpperTRange|AverageOfUpperTRange|  MaxOfLowerTRange| MinOfLowerTRange|AverageOfLowerTRange|       RainingDays|AverageRainingDays|           fruitset|           fruitmass|            seeds|            yield|\n",
      "+-------+------------------+------------------+------------------+-------------------+-------------------+-------------------+-----------------+------------------+--------------------+------------------+-----------------+--------------------+------------------+------------------+-------------------+--------------------+-----------------+-----------------+\n",
      "|  count|               777|               777|               777|                777|                777|                777|              758|               769|                 777|               777|              760|                 769|               777|               777|                777|                 777|              777|              777|\n",
      "|   mean|             388.0|18.767696267696266|0.4171325611325609|0.28238867438867304| 0.4688172458172444|  0.562061776061775|82.31517150395753|49.748374512353536|   68.72303732303719|59.309395109395005|28.70631578947359|   48.60858257477263| 18.30929214929216|0.3199999999999972| 0.5021206032728446| 0.44598335463577865|36.12243156155724|6012.849164670526|\n",
      "| stddev|224.44487073666886| 6.999062821682248|0.9789037929007206| 0.0663434190632992|0.16105207444047395|0.16911936489019275|9.203284372083003|  5.59427260921601|   7.676983745102905| 6.647759623356165|3.209892828219786|   5.416636621111364|12.124225839388153|0.1712792980431212|0.07944509028830345|0.040332669014261975|4.377888913774901|1356.955318255517|\n",
      "|    min|                 0|              10.0|               0.0|                0.0|                0.0|                0.0|             69.7|              39.0|                58.2|              50.2|             24.3|                41.2|               1.0|              0.06|        0.192731658|         0.311920972|      22.07919927|      1637.704022|\n",
      "|    max|               776|              40.0|             18.43|              0.585|               0.75|               0.75|             94.6|              57.2|                79.0|              68.2|             33.0|                55.9|              34.0|              0.56|        0.652144089|         0.535660479|      46.58510536|      8969.401842|\n",
      "+-------+------------------+------------------+------------------+-------------------+-------------------+-------------------+-----------------+------------------+--------------------+------------------+-----------------+--------------------+------------------+------------------+-------------------+--------------------+-----------------+-----------------+\n",
      "\n"
     ]
    },
    {
     "data": {
      "image/png": "[encoded data removed]",
      "text/plain": [
       "<Figure size 432x288 with 1 Axes>"
      ]
     },
     "metadata": {
      "needs_background": "light"
     },
     "output_type": "display_data"
    },
    {
     "data": {
      "image/png": "[encoded data removed]",
      "text/plain": [
       "<Figure size 432x288 with 1 Axes>"
      ]
     },
     "metadata": {
      "needs_background": "light"
     },
     "output_type": "display_data"
    },
    {
     "name": "stdout",
     "output_type": "stream",
     "text": [
      "+----+---------+--------+-------+-------+-----+----------------+----------------+--------------------+----------------+----------------+--------------------+-----------+------------------+--------+---------+-----+-----+\n",
      "|Row#|clonesize|honeybee|bumbles|andrena|osmia|MaxOfUpperTRange|MinOfUpperTRange|AverageOfUpperTRange|MaxOfLowerTRange|MinOfLowerTRange|AverageOfLowerTRange|RainingDays|AverageRainingDays|fruitset|fruitmass|seeds|yield|\n",
      "+----+---------+--------+-------+-------+-----+----------------+----------------+--------------------+----------------+----------------+--------------------+-----------+------------------+--------+---------+-----+-----+\n",
      "|   0|        0|       0|      0|      0|    0|              19|               8|                   0|               0|              17|                   8|          0|                 0|       0|        0|    0|    0|\n",
      "+----+---------+--------+-------+-------+-----+----------------+----------------+--------------------+----------------+----------------+--------------------+-----------+------------------+--------+---------+-----+-----+\n",
      "\n",
      "+----+---------+--------+-------+-------+-----+-----------------+------------------+--------------------+----------------+-----------------+--------------------+-----------+------------------+--------+---------+-----+-----+\n",
      "|Row#|clonesize|honeybee|bumbles|andrena|osmia| MaxOfUpperTRange|  MinOfUpperTRange|AverageOfUpperTRange|MaxOfLowerTRange| MinOfLowerTRange|AverageOfLowerTRange|RainingDays|AverageRainingDays|fruitset|fruitmass|seeds|yield|\n",
      "+----+---------+--------+-------+-------+-----+-----------------+------------------+--------------------+----------------+-----------------+--------------------+-----------+------------------+--------+---------+-----+-----+\n",
      "| 0.0|      0.0|     0.0|    0.0|    0.0|  0.0|2.445302445302445|1.0296010296010296|                 0.0|             0.0|2.187902187902188|  1.0296010296010296|        0.0|               0.0|     0.0|      0.0|  0.0|  0.0|\n",
      "+----+---------+--------+-------+-------+-----+-----------------+------------------+--------------------+----------------+-----------------+--------------------+-----------+------------------+--------+---------+-----+-----+\n",
      "\n",
      "Extreme counts per column:\n",
      "Row#: 0\n",
      "clonesize: 0\n",
      "honeybee: 4\n",
      "bumbles: 7\n",
      "andrena: 4\n",
      "osmia: 17\n",
      "MaxOfUpperTRange: 0\n",
      "MinOfUpperTRange: 0\n",
      "AverageOfUpperTRange: 0\n",
      "MaxOfLowerTRange: 0\n",
      "MinOfLowerTRange: 0\n",
      "AverageOfLowerTRange: 0\n",
      "RainingDays: 0\n",
      "AverageRainingDays: 0\n",
      "fruitset: 9\n",
      "fruitmass: 2\n",
      "seeds: 2\n",
      "yield: 2\n",
      "Outlier counts per column:\n",
      "Row#: 0\n",
      "clonesize: 0\n",
      "honeybee: 4\n",
      "bumbles: 0\n",
      "andrena: 0\n",
      "osmia: 0\n",
      "MaxOfUpperTRange: 0\n",
      "MinOfUpperTRange: 0\n",
      "AverageOfUpperTRange: 0\n",
      "MaxOfLowerTRange: 0\n",
      "MinOfLowerTRange: 0\n",
      "AverageOfLowerTRange: 0\n",
      "RainingDays: 0\n",
      "AverageRainingDays: 0\n",
      "fruitset: 0\n",
      "fruitmass: 0\n",
      "seeds: 0\n",
      "yield: 0\n"
     ]
    }
   ],
   "source": [
    "import findspark\n",
    "\n",
    "import pyspark\n",
    "findspark.init('/home/ubuntu/spark-3.2.1-bin-hadoop2.7')\n",
    "\n",
    "from pyspark.sql import SparkSession\n",
    "from pyspark.sql.functions import col, count, isnan, mean as _mean\n",
    "from pyspark.sql import functions as F\n",
    "import matplotlib.pyplot as plt\n",
    "import numpy as np\n",
    "spark = SparkSession.builder.appName('linear_regression_adv').getOrCreate()\n",
    "\n",
    "file = \"WildBlueberryPollinationSimulationData (1).csv\" \n",
    "df = spark.read.csv(file, header=True, inferSchema=True)\n",
    "\n",
    "# 打印DataFrame的形状\n",
    "print((df.count(), len(df.columns)))\n",
    "\n",
    "# The summary \n",
    "summary = df.describe()\n",
    "summary.show()\n",
    "\n",
    "# 绘制直方图和密度图需要将数据导出到pandas DataFrame中\n",
    "pandas_df = df.toPandas()\n",
    "\n",
    "import matplotlib.pyplot as plt\n",
    "\n",
    "\n",
    "plt.hist(pandas_df['clonesize'], bins=10, edgecolor='black')  \n",
    "plt.title('Histogram of Clone Size')\n",
    "plt.xlabel('Clone Size')\n",
    "plt.ylabel('Frequency')\n",
    "plt.show()\n",
    "\n",
    "\n",
    "clone_size_data = df.select(\"clonesize\").rdd.flatMap(lambda x: x).collect()\n",
    "yield_data = df.select(\"yield\").rdd.flatMap(lambda x: x).collect()\n",
    "\n",
    "plt.figure(figsize=(6, 4))\n",
    "plt.scatter(clone_size_data, yield_data)\n",
    "plt.title('Yield vs Clone Size')\n",
    "plt.xlabel('Clone Size')\n",
    "plt.ylabel('Yield')\n",
    "plt.show()\n",
    "\n",
    "# Calculate the missing value\n",
    "missing_values_per_column = df.select([count(F.when(col(c).isNull(), c)).alias(c) for c in df.columns])\n",
    "missing_values_per_column.show()\n",
    "\n",
    "# Calculate the pre\n",
    "missing_percentage = df.select([(count(F.when(col(c).isNull(), c)) / df.count() * 100).alias(c) for c in df.columns])\n",
    "missing_percentage.show()\n",
    "\n",
    "# outlier and extreme\n",
    "def find_outliers(df, column):\n",
    "    Q1 = df.approxQuantile(column, [0.25], 0.01)[0]\n",
    "    Q3 = df.approxQuantile(column, [0.75], 0.01)[0]\n",
    "    IQR = Q3 - Q1\n",
    "    lower_bound = Q1 - 1.5 * IQR\n",
    "    upper_bound = Q3 + 1.5 * IQR\n",
    "\n",
    "    outliers = df.filter((col(column) < lower_bound) | (col(column) > upper_bound))\n",
    "    return outliers.count()\n",
    "\n",
    "outlier_counts = {column: find_outliers(df, column) for column in df.columns if dict(df.dtypes)[column] in ['int', 'double']}\n",
    "print(\"Extreme counts per column:\")\n",
    "for column, count in outlier_counts.items():\n",
    "    print(f\"{column}: {count}\")\n",
    "\n",
    "def find_extremes(df, column):\n",
    "    Q1 = df.approxQuantile(column, [0.25], 0.01)[0]\n",
    "    Q3 = df.approxQuantile(column, [0.75], 0.01)[0]\n",
    "    IQR = Q3 - Q1\n",
    "    lower_bound = Q1 - 3 * IQR\n",
    "    upper_bound = Q3 + 3 * IQR\n",
    "\n",
    "    extremes = df.filter((col(column) < lower_bound) | (col(column) > upper_bound))\n",
    "    return extremes.count()\n",
    "\n",
    "extreme_counts = {column: find_extremes(df, column) for column in df.columns if dict(df.dtypes)[column] in ['int', 'double']}\n",
    "print(\"Outlier counts per column:\")\n",
    "for column, count in extreme_counts.items():\n",
    "    print(f\"{column}: {count}\")\n",
    "\n",
    "spark.stop()\n"
   ]
  },
  {
   "cell_type": "code",
   "execution_count": null,
   "id": "fe9c12d2",
   "metadata": {},
   "outputs": [],
   "source": []
  }
 ],
 "metadata": {
  "kernelspec": {
   "display_name": "Python 3 (ipykernel)",
   "language": "python",
   "name": "python3"
  },
  "language_info": {
   "codemirror_mode": {
    "name": "ipython",
    "version": 3
   },
   "file_extension": ".py",
   "mimetype": "text/x-python",
   "name": "python",
   "nbconvert_exporter": "python",
   "pygments_lexer": "ipython3",
   "version": "3.10.4"
  }
 },
 "nbformat": 4,
 "nbformat_minor": 5
}
